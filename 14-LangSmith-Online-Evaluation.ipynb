{
 "cells": [
  {
   "cell_type": "markdown",
   "id": "8cc39cad",
   "metadata": {},
   "source": [
    "## Online Evaluators\n",
    "\n",
    "때때로 프로젝트에 기록된 생성물을 평가하고자 할 때가 있습니다."
   ]
  },
  {
   "cell_type": "code",
   "execution_count": null,
   "id": "34a30a84",
   "metadata": {},
   "outputs": [],
   "source": [
    "# 설치\n",
    "# !pip install -qU langsmith langchain-teddynote"
   ]
  },
  {
   "cell_type": "code",
   "execution_count": 1,
   "id": "d75d1492",
   "metadata": {},
   "outputs": [
    {
     "data": {
      "text/plain": [
       "True"
      ]
     },
     "execution_count": 1,
     "metadata": {},
     "output_type": "execute_result"
    }
   ],
   "source": [
    "# API KEY를 환경변수로 관리하기 위한 설정 파일\n",
    "from dotenv import load_dotenv\n",
    "\n",
    "# API KEY 정보로드\n",
    "load_dotenv()"
   ]
  },
  {
   "cell_type": "code",
   "execution_count": 2,
   "id": "443aab3c",
   "metadata": {},
   "outputs": [
    {
     "name": "stdout",
     "output_type": "stream",
     "text": [
      "LangSmith 추적을 시작합니다.\n",
      "[프로젝트명]\n",
      "CH16-Auto-Evaluation-Test\n"
     ]
    }
   ],
   "source": [
    "# LangSmith 추적을 설정합니다. https://smith.langchain.com\n",
    "# !pip install -qU langchain-teddynote\n",
    "from langchain_teddynote import logging\n",
    "\n",
    "# 프로젝트 이름을 입력합니다.\n",
    "logging.langsmith(\"CH16-Auto-Evaluation-Test\")"
   ]
  },
  {
   "cell_type": "markdown",
   "id": "a09c8411",
   "metadata": {},
   "source": [
    "## 온라인 Evaluation을 위한 Chain 설정"
   ]
  },
  {
   "cell_type": "code",
   "execution_count": 3,
   "id": "804d6c06",
   "metadata": {},
   "outputs": [],
   "source": [
    "from myrag import PDFRAG\n",
    "from langchain_openai import ChatOpenAI\n",
    "\n",
    "# PDFRAG 객체 생성\n",
    "rag = PDFRAG(\n",
    "    \"data/SPRI_AI_Brief_2023년12월호_F.pdf\",\n",
    "    ChatOpenAI(model=\"gpt-4o-mini\", temperature=0),\n",
    ")\n",
    "\n",
    "# 검색기(retriever) 생성\n",
    "retriever = rag.create_retriever()\n",
    "\n",
    "# 체인(chain) 생성\n",
    "rag_chain = rag.create_chain(retriever)"
   ]
  },
  {
   "cell_type": "code",
   "execution_count": 4,
   "id": "35ddb8c7",
   "metadata": {},
   "outputs": [],
   "source": [
    "from langchain_core.runnables import RunnableParallel, RunnablePassthrough\n",
    "\n",
    "# RunnableParallel 객체 생성합니다.\n",
    "evaluation_runnable = RunnableParallel(\n",
    "    {\n",
    "        \"context\": retriever,\n",
    "        \"answer\": rag_chain,\n",
    "        \"question\": RunnablePassthrough(),\n",
    "    }\n",
    ")"
   ]
  },
  {
   "cell_type": "markdown",
   "id": "5e74b76f",
   "metadata": {},
   "source": [
    "테스트 체인을 실행하여 Runs 에 결과가 반영되는지 확인합니다."
   ]
  },
  {
   "cell_type": "code",
   "execution_count": 5,
   "id": "a48114b8",
   "metadata": {},
   "outputs": [],
   "source": [
    "# 체인 실행\n",
    "_ = evaluation_runnable.invoke(\"삼성전자가 자체 개발한 생성형 AI의 이름은 무엇인가요?\")"
   ]
  },
  {
   "cell_type": "markdown",
   "id": "ec0d1d5a",
   "metadata": {},
   "source": [
    "## Online LLM-as-judge 생성\n",
    "\n",
    "## 참고 URL : https://docs.langchain.com/langsmith/online-evaluations#configure-llm-as-judge-evaluators"
   ]
  },
  {
   "cell_type": "markdown",
   "id": "4ab9b56c",
   "metadata": {},
   "source": [
    "> Online LLM-as-judge 생성\n",
    "\n",
    "![](./assets/1.png)\n",
    "\n",
    "\n",
    "![](./assets/2.png)\n",
    "\n",
    "\n",
    "![](./assets/3.png)\n",
    "\n",
    "\n",
    "![](./assets/4.png)\n",
    "\n",
    "\n",
    "![](./assets/5.png)\n",
    "\n",
    "\n",
    "![](./assets/6.png)\n",
    "\n",
    "\n",
    "![](./assets/7.png)"
   ]
  },
  {
   "cell_type": "code",
   "execution_count": 6,
   "id": "43e50832",
   "metadata": {},
   "outputs": [],
   "source": [
    "from langchain_core.runnables import RunnableConfig\n",
    "\n",
    "# 태그를 설정합니다.\n",
    "hallucination_config = RunnableConfig(tags=[\"hallucination_eval\"])\n",
    "context_recall_config = RunnableConfig(tags=[\"context_recall_eval\"])\n",
    "all_eval_config = RunnableConfig(tags=[\"hallucination_eval\", \"context_recall_eval\"])"
   ]
  },
  {
   "cell_type": "code",
   "execution_count": 7,
   "id": "3ab565f8",
   "metadata": {},
   "outputs": [],
   "source": [
    "# 체인 실행\n",
    "_ = evaluation_runnable.invoke(\"삼성전자가 자체 개발한 생성형 AI의 이름은 무엇인가요?\")"
   ]
  },
  {
   "cell_type": "code",
   "execution_count": 8,
   "id": "ff65fcff",
   "metadata": {},
   "outputs": [],
   "source": [
    "# Hallucination 평가 요청\n",
    "_ = evaluation_runnable.invoke(\n",
    "    \"삼성전자가 자체 개발한 생성형 AI의 이름은 무엇인가요?\", config=hallucination_config\n",
    ")"
   ]
  },
  {
   "cell_type": "code",
   "execution_count": 25,
   "id": "76283c9b",
   "metadata": {},
   "outputs": [],
   "source": [
    "# Context Recall 평가 요청\n",
    "_ = evaluation_runnable.invoke(\n",
    "    \"삼성전자가 자체 개발한 생성형 AI의 이름은 무엇인가요?\",\n",
    "    config=context_recall_config,\n",
    ")"
   ]
  },
  {
   "cell_type": "code",
   "execution_count": 31,
   "id": "e0bfeb23",
   "metadata": {},
   "outputs": [],
   "source": [
    "# 모든 평가 요청\n",
    "_ = evaluation_runnable.invoke(\n",
    "    \"삼성전자가 자체 개발한 생성형 AI의 이름은 무엇인가요?\", config=all_eval_config\n",
    ")"
   ]
  },
  {
   "cell_type": "markdown",
   "id": "fcf0ff75",
   "metadata": {},
   "source": [
    "\n",
    "\n",
    "![](./assets/8.png)\n",
    "\n",
    "\n",
    "![](./assets/9.png)\n",
    "\n"
   ]
  }
 ],
 "metadata": {
  "kernelspec": {
   "display_name": "3.11.9",
   "language": "python",
   "name": "python3"
  },
  "language_info": {
   "codemirror_mode": {
    "name": "ipython",
    "version": 3
   },
   "file_extension": ".py",
   "mimetype": "text/x-python",
   "name": "python",
   "nbconvert_exporter": "python",
   "pygments_lexer": "ipython3",
   "version": "3.11.9"
  }
 },
 "nbformat": 4,
 "nbformat_minor": 5
}
