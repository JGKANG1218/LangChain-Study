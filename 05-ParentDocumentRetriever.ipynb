{
 "cells": [
  {
   "cell_type": "markdown",
   "id": "174ef1d9",
   "metadata": {},
   "source": [
    "\n",
    "**`ParentDocumentRetriever`의 역할**\n",
    "\n",
    "\n",
    "한 권의 책을 각 장이나 절 단위로 나누고, 각 장을 따로 요약하는 것\n",
    "\n",
    "분할 된 문서(chunks)를 인덱싱해 검색하지만, 실제 검색 결과를 반환할 때는 \n",
    "이 분할 된 문서(chunks)가 속한 전체 원문 문서(Parent Document)를 함께 반환하는 방식의 검색 시스템입니다.\n",
    "\n",
    "이 방식을 통해 문서의 의미를 정확하게 파악하면서도, 전체적인 맥락을 유지할 수 있게 됩니다.\n",
    "\n",
    "Parent Document Retriever는 문서를 잘게 나눈 후 벡터 저장소로 검색한 다음,\n",
    "해당 조각이 속한 \"부모 문서\"를 docstore에서 가져와서 전체 문맥을 제공합니다.\n",
    "\n",
    "\n",
    "**정리**\n",
    "\n",
    "- **문서 간의 계층 구조 활용**: `ParentDocumentRetriever`는 문서 검색의 효율성을 높이기 위해 문서 간의 계층 구조를 활용합니다.\n",
    "- **검색 성능 향상**: 관련성 높은 문서를 빠르게 찾아내며, 주어진 질문에 대한 가장 적합한 답변을 제공하는 문서를 효과적으로 찾아낼 수 있습니다.\n",
    "  문서를 검색할 때 자주 발생하는 두 가지 상충되는 요구 사항이 있습니다:\n"
   ]
  },
  {
   "cell_type": "markdown",
   "id": "d7ba411b",
   "metadata": {},
   "source": [
    "여러 개의 텍스트 파일을 로드하기 위해 `TextLoader` 객체를 생성하고 데이터를 로드합니다.\n"
   ]
  },
  {
   "cell_type": "code",
   "execution_count": null,
   "id": "9c12ba1e",
   "metadata": {},
   "outputs": [],
   "source": [
    "from dotenv import load_dotenv                                      # API 키 정보 로드\n",
    "from langchain.storage import InMemoryStore                         # 원본(Parent) 문서를 저장할 임시 저장소\n",
    "from langchain_community.document_loaders import TextLoader         # 텍스트 문서(.txt 등)를 불러오는 로더\n",
    "from langchain_chroma import Chroma                                 # 벡터 저장소로 사용할 Chroma\n",
    "from langchain_openai import OpenAIEmbeddings                       # OpenAI 임베딩 모델 (텍스트를 벡터화)\n",
    "from langchain_text_splitters import RecursiveCharacterTextSplitter # 텍스트 분할기 (문맥을 고려한 자르기)\n",
    "from langchain.retrievers import ParentDocumentRetriever            # Parent 문서를 기반으로 검색하는 리트리버"
   ]
  },
  {
   "cell_type": "code",
   "execution_count": 10,
   "id": "68f6a054",
   "metadata": {},
   "outputs": [
    {
     "name": "stdout",
     "output_type": "stream",
     "text": [
      "[Document(metadata={'source': './data/navercloud.txt'}, page_content='1. CLOVA Studio\\n정의:CLOVA Studio는 네이버클라우드가 제공하는 AI 모델 개발 및 활용 플랫폼으로, 자연어 처리(NLP) 기반의 대규모 언어모델을 다양한 비즈니스에 쉽게 적용할 수 있게 지원합니다.\\n예시:기업이 자체 고객상담 데이터를 활용해 FAQ 챗봇을 구축하거나, 보고서 자동 요약 기능을 개발할 수 있습니다.\\n연관키워드:GPT, 자연어처리, 생성형 AI, 프롬프트 엔지니어링, API\\n\\n2. Object Storage\\n정의:Object Storage는 이미지, 동영상, 로그, 백업 파일 등 비정형 데이터를 저장하고 관리할 수 있는 대용량 클라우드 스토리지 서비스입니다.\\n예시:게임사가 사용자 리플레이 영상 데이터를 저장하거나, 기업이 CCTV 백업 데이터를 안전하게 장기 저장하는 데 사용합니다.\\n연관키워드:비정형 데이터, 클라우드 스토리지, 백업, CDN, 데이터 보존\\n\\n3. Cloud DB for MySQL\\n정의:Cloud DB for MySQL은 고가용성과 자동화 기능을 갖춘 네이버클라우드의 관리형 데이터베이스 서비스입니다. 백업, 복제, 모니터링 등을 자동으로 수행합니다.\\n예시:쇼핑몰 플랫폼이 상품 정보와 고객 데이터를 안정적으로 관리하기 위해 Cloud DB를 사용합니다.\\n연관키워드:RDS, MySQL, 데이터베이스 관리, 고가용성, 자동 백업\\n\\n4. AI Workbench\\n정의:AI Workbench는 데이터 분석가와 머신러닝 엔지니어가 클라우드 환경에서 데이터 전처리, 모델 학습, 실험을 통합적으로 수행할 수 있는 개발환경입니다.\\n예시:헬스케어 기업이 환자 데이터를 기반으로 예측 모델을 개발하기 위해 Jupyter 기반 환경에서 AI Workbench를 활용합니다.\\n연관키워드:머신러닝, Jupyter, AutoML, 데이터 분석, GPU\\n\\n\\n5. API Gateway\\n정의:API Gateway는 여러 서비스에서 제공하는 API를 통합 관리하고 보안, 인증, 트래픽 제어 등의 기능을 제공하는 서비스입니다.\\n예시:여러 개의 백엔드 서비스가 있는 쇼핑몰에서 API Gateway를 통해 외부 요청을 일관성 있게 처리합니다.\\n연관키워드:API 관리, 인증, 라우팅, Throttling, 백엔드 통합\\n\\n6. Auto Scaling\\n정의:Auto Scaling은 서버 부하에 따라 인스턴스 수를 자동으로 조절해 서비스의 안정성과 비용 효율성을 높여주는 기능입니다.\\n예시:이벤트 시즌에 접속자가 급증하는 티켓 예매 사이트가 자동으로 서버를 확장하여 트래픽을 감당합니다.\\n연관키워드:스케일 아웃, 트래픽 관리, 탄력성, 서버 자동화\\n\\n7. Cloud Insight\\n정의:Cloud Insight는 네이버클라우드 인프라의 모니터링과 알림 기능을 제공하는 통합 관제 도구입니다.\\n예시:서버의 CPU 사용률이 급증하면 알림을 받아 즉시 대응할 수 있도록 구성할 수 있습니다.\\n연관키워드:모니터링, 경고, 성능 추적, 대시보드\\n\\n8. Cloud Functions\\n정의:Cloud Functions는 이벤트 기반으로 코드만 업로드하면 서버 없이 실행할 수 있는 FaaS(Function as a Service) 플랫폼입니다.\\n예시:사용자가 이미지를 업로드하면 자동으로 썸네일을 생성하는 로직을 Cloud Functions로 실행할 수 있습니다.\\n연관키워드:서버리스, 이벤트 트리거, FaaS, 자동 실행\\n\\n9. Cloud Hadoop\\n정의:Cloud Hadoop은 빅데이터 처리를 위한 분산 컴퓨팅 플랫폼으로, 대용량 데이터를 병렬 처리하는 데 최적화되어 있습니다.\\n예시:마케팅 데이터 분석을 위해 수 TB 규모의 로그 데이터를 MapReduce로 처리합니다.\\n연관키워드:빅데이터, MapReduce, 분산 처리, Spark\\n\\n10. Cloud Data Box\\n정의:Cloud Data Box는 대용량 데이터를 오프라인으로 클라우드에 업로드할 수 있는 이송 장비 기반의 서비스입니다.\\n예시:IDC 내 서버에 저장된 수십 TB의 데이터를 안전하게 클라우드로 이전할 때 활용합니다.\\n연관키워드:데이터 이전, 오프라인 전송, 대용량 마이그레이션\\n\\n11. Cloud Security Monitoring\\n정의:클라우드 환경에서 발생하는 보안 이벤트를 실시간으로 수집, 분석, 탐지하는 보안 관제 서비스입니다.\\n예시:이상 로그인 패턴이나 비인가 접근을 실시간으로 감지하여 대응합니다.\\n연관키워드:SIEM, 로그 분석, 위협 탐지, 보안 관제\\n\\n12. WAF (Web Application Firewall)\\n정의:웹 애플리케이션에 대한 공격을 차단하는 보안 장비로, SQL Injection, XSS 등 OWASP Top10 위협으로부터 보호합니다.\\n예시:전자상거래 웹사이트가 고객 정보 유출을 막기 위해 WAF를 적용합니다.\\n연관키워드:웹 보안, 애플리케이션 방화벽, OWASP\\n\\n13. NAS (Network Attached Storage)\\n정의:NAS는 네트워크 기반의 공유 저장소로, 여러 서버에서 동시에 데이터를 저장하거나 읽을 수 있게 해줍니다.\\n예시:협업 중인 팀이 공동으로 사용할 대용량 파일을 저장하고 접근하는 데 활용됩니다.\\n연관키워드:파일 공유, 스토리지, SMB/NFS, 백업\\n\\n14. AI Object Detection\\n정의:이미지나 영상에서 객체를 식별하고 위치를 파악하는 AI 서비스입니다.\\n예시:스마트 시티 프로젝트에서 CCTV로 사람과 차량을 자동 식별합니다.\\n연관키워드:컴퓨터 비전, 딥러닝, 객체 인식, CCTV 분석\\n\\n15. VPC (Virtual Private Cloud)\\n정의:퍼블릭 클라우드 안에 사용자가 독립된 네트워크 환경을 구성할 수 있는 가상 네트워크 서비스입니다.\\n예시:금융기업이 외부와 분리된 네트워크 내에서 안전하게 서비스를 운영합니다.\\n연관키워드:네트워크 분리, 보안, 사설망, 라우팅\\n\\n16. Private Image Registry\\n정의:컨테이너 이미지를 안전하게 저장, 관리할 수 있는 프라이빗 레지스트리 서비스입니다.\\n예시:사내 개발팀이 내부에서만 사용하는 도커 이미지를 등록하고 배포합니다.\\n연관키워드:도커, 컨테이너, 이미지 버전 관리, 보안 저장소\\n\\n17. Media Transcoder\\n정의:비디오 파일을 다양한 해상도 및 포맷으로 실시간 혹은 배치로 변환해주는 서비스입니다.\\n예시:OTT 플랫폼이 사용자 디바이스에 맞춰 1080p, 720p 등 다양한 화질로 콘텐츠를 제공할 수 있습니다.\\n연관키워드:비디오 처리, 스트리밍, 코덱 변환, HLS\\n\\n18. CDN+ (Content Delivery Network)\\n정의:전 세계 엣지 서버를 통해 웹 콘텐츠를 빠르고 안정적으로 사용자에게 전달하는 서비스입니다.\\n예시:대규모 게임 런칭 시 전 세계 유저에게 빠르게 게임 설치 파일을 배포합니다.\\n연관키워드:엣지 서버, 지연 최소화, 글로벌 배포, 캐싱\\n\\n19. Cloud Outbound Mailer\\n정의:대량 메일 발송을 위한 클라우드 기반의 메일 릴레이 서비스입니다.\\n예시:마케팅팀이 수만 명의 고객에게 이메일 뉴스레터를 안정적으로 발송할 때 사용합니다.\\n연관키워드:SMTP, 메일 릴레이, 대량 메일링, 스팸 방지\\n\\n20. AI OCR\\n정의:이미지나 문서에서 텍스트를 추출하고, 인식한 정보를 구조화하는 AI 기반의 문자인식 서비스입니다.\\n예시:보험사가 고객이 제출한 청구서에서 정보를 자동 추출해 시스템에 입력합니다.\\n연관키워드:문자인식, 이미지 처리, 데이터 추출, 디지털 전환\\n\\n21. Cloud Backup\\n정의:서버, 데이터베이스, 파일 등을 자동 백업하고 복구할 수 있는 안정적인 백업 서비스입니다.\\n예시:중소기업이 월 단위로 서버 전체를 스냅샷 백업하여 장애 시 복구합니다.\\n연관키워드:데이터 보호, 복구, 스냅샷, 재해 복구\\n\\n22. Kubernetes Service (NKS)\\n정의:네이버클라우드에서 제공하는 관리형 쿠버네티스 플랫폼으로, 컨테이너 오케스트레이션을 자동화합니다.\\n예시:마이크로서비스 구조의 SaaS 기업이 NKS로 앱 배포, 확장, 운영을 효율화합니다.\\n연관키워드:컨테이너, 마이크로서비스, 오케스트레이션, 자동화\\n\\n\\n23. Secure Zone\\n정의:Secure Zone은 보안이 강화된 네트워크 분리 환경으로, 외부 인터넷과의 접속을 차단하고 내부적으로만 운영 가능한 고보안 환경을 제공합니다.\\n예시:금융기관이 개인정보를 다루는 서버를 외부와 완전히 분리된 환경에서 운영하여 해킹 리스크를 줄입니다.\\n연관키워드:망 분리, 내부망, 보안 영역, 네트워크 격리\\n\\n24. Web Security Checker\\n정의:웹 애플리케이션의 보안 취약점을 자동으로 점검해주는 서비스로, OWASP Top 10 위협 요소를 포함한 다수의 취약점을 진단합니다.\\n예시:쇼핑몰 개발사가 서비스 오픈 전에 Web Security Checker로 SQL Injection과 XSS 위험을 점검합니다.\\n연관키워드:취약점 점검, 웹 보안, 자동 스캐닝, 보안 진단\\n\\n25. SSL VPN\\n정의:원격에서도 안전하게 기업 내부 자원에 접속할 수 있도록 암호화된 가상 사설 네트워크(VPN)를 제공합니다.\\n예시:재택근무 중인 직원이 사내 시스템에 접속할 때 SSL VPN을 통해 보안 접속을 유지합니다.\\n연관키워드:암호화, 원격 접속, 보안 터널링, VPN\\n\\n26. DDoS Protection\\n정의:대규모 트래픽 기반의 서비스 거부 공격(DDoS)을 탐지하고 차단하는 서비스로, 서비스의 가용성을 보호합니다.\\n예시:이벤트 당일 트래픽이 폭증할 것으로 예상되는 티켓팅 사이트가 DDoS 방어를 설정하여 장애 없이 운영합니다.\\n연관키워드:트래픽 차단, 서비스 보호, 공격 방어, 보안 정책\\n\\n27. Key Management Service (KMS)\\n정의:암호화 키를 안전하게 생성, 저장, 관리할 수 있는 서비스로, 클라우드 내 데이터 보호를 위한 필수 요소입니다.\\n예시:이커머스 기업이 고객정보를 저장하기 전 KMS로 키를 관리하며 데이터 암호화를 수행합니다.\\n연관키워드:암호화 키, 보안 저장소, 데이터 보호, KMS')]\n"
     ]
    }
   ],
   "source": [
    "loaders = [\n",
    "    # 파일을 로드합니다.\n",
    "    TextLoader(\"./data/navercloud.txt\",encoding=\"utf8\"),\n",
    "]\n",
    "\n",
    "docs = [] # 문서들을 저장할 리스트 초기화\n",
    "for loader in loaders:\n",
    "    # 로더를 사용하여 문서를 로드하고 docs 리스트에 추가합니다.\n",
    "    docs.extend(loader.load())\n",
    "\n",
    "print(docs)"
   ]
  },
  {
   "cell_type": "markdown",
   "id": "5314377a",
   "metadata": {},
   "source": [
    "## 전체 문서 검색\n",
    "\n",
    "이 모드에서는 전체 문서를 검색하고자 합니다. 따라서 `child_splitter` 만 지정하도록 하겠습니다.\n",
    "\n",
    "- 나중에는 `parent_splitter` 도 지정하여 결과를 비교해 보겠습니다.\n"
   ]
  },
  {
   "cell_type": "code",
   "execution_count": null,
   "id": "812dfdfe",
   "metadata": {},
   "outputs": [],
   "source": [
    "# 자식 문서 분할기 생성\n",
    "# 원본 문서를 200자 단위로 잘라서 chunk(자식 문서)로 만듭니다.\n",
    "# 이 chunk들은 벡터화되어 vectorstore에 저장됩니다.\n",
    "\n",
    "child_splitter = RecursiveCharacterTextSplitter(chunk_size=200)\n",
    "\n",
    "# 벡터 저장소 생성 (Chroma 사용)\n",
    "# embedding_function은 OpenAIEmbeddings로 설정되어,\n",
    "# 텍스트 → 벡터 변환 시 OpenAI 임베딩 모델을 사용합니다.\n",
    "# collection_name은 저장소 이름으로, 동일 이름일 경우 같은 컬렉션으로 취급됩니다.\n",
    "\n",
    "vectorstore = Chroma(\n",
    "    collection_name=\"full_documents\", embedding_function=OpenAIEmbeddings()\n",
    ")\n",
    "\n",
    "# 원본(Parent) 문서를 저장할 저장소 생성\n",
    "# InMemoryStore는 LangChain이 제공하는 메모리 기반 저장소로, 휘발성입니다.\n",
    "\n",
    "store = InMemoryStore()\n",
    "\n",
    "# ParentDocumentRetriever 생성\n",
    "# - vectorstore: 자식 문서(분할된 chunk)가 저장되고 검색되는 벡터 저장소\n",
    "# - docstore: 원본 문서(Parent 문서)를 저장하는 저장소\n",
    "# - child_splitter: 문서를 분할하여 자식 문서를 생성하는 도구\n",
    "\n",
    "retriever = ParentDocumentRetriever(\n",
    "    vectorstore=vectorstore,       # 각 chunk를 → 벡터화해서 저장\n",
    "    docstore=store,                # chunk가 속한 원본 문서도 저장\n",
    "    child_splitter=child_splitter, # 문서 하나를 → chunk 여러 개로 나눔\n",
    ")\n"
   ]
  },
  {
   "cell_type": "markdown",
   "id": "02d1967f",
   "metadata": {},
   "source": [
    "`retriever.add_documents(docs, ids=None)` 함수로 문서목록을 추가합니다.\n",
    "\n",
    "- `ids` 가 `None` 이면 자동으로 생성됩니다.\n",
    "- `add_to_docstore=False` 로 설정시 document 를 중복으로 추가하지 않습니다. 단, 중복을 체크하기 위한 `ids` 값이 필수 값으로 요구됩니다.\n"
   ]
  },
  {
   "cell_type": "code",
   "execution_count": 56,
   "id": "c737c91d",
   "metadata": {},
   "outputs": [],
   "source": [
    "# 문서를 검색기에 추가합니다. docs는 문서 목록이고, ids는 문서의 고유 식별자 목록입니다.\n",
    "\n",
    "retriever.add_documents(docs, ids=None, add_to_docstore=True)\n",
    "\n",
    "# add_to_docstore=True면 docstore(예: InMemoryStore)에 저장합니다.\n",
    "# 이때 자동으로 UUID 기반 doc_id가 부여됩니다 (또는 ids 지정 가능).\n",
    "\n",
    "# ParentDocumentRetriever는 chunk로 검색하고, 원본 문서(Parent)를 반환합니다.\n",
    "# 따라서 add_to_docstore=True가 아니면 원본 문서를 찾을 수 없습니다."
   ]
  },
  {
   "cell_type": "markdown",
   "id": "68ef1793",
   "metadata": {},
   "source": [
    "이 코드는 두 개의 키를 반환해야 합니다. 그 이유는 우리가 두 개의 문서를 추가했기 때문입니다.\n"
   ]
  },
  {
   "cell_type": "markdown",
   "id": "72bc0f5b",
   "metadata": {},
   "source": [
    "- `store` 객체의 `yield_keys()` 메서드를 호출하여 반환된 키(key) 값들을 리스트로 변환합니다.\n"
   ]
  },
  {
   "cell_type": "code",
   "execution_count": 57,
   "id": "6875b63a",
   "metadata": {},
   "outputs": [
    {
     "data": {
      "text/plain": [
       "['ac130422-92f8-44ac-8f6a-abc233cba210',\n",
       " '49b59266-1f1d-4a20-8561-48295470c1ce']"
      ]
     },
     "execution_count": 57,
     "metadata": {},
     "output_type": "execute_result"
    }
   ],
   "source": [
    "# 저장소의 모든 키를 리스트로 반환합니다.\n",
    "list(store.yield_keys())"
   ]
  },
  {
   "cell_type": "markdown",
   "id": "9fb5f346",
   "metadata": {},
   "source": [
    "이제 벡터 스토어 검색 기능을 호출해 보겠습니다.\n",
    "\n",
    "우리가 작은 청크(chunk)들을 저장하고 있기 때문에, 검색 결과로 작은 청크들이 반환되는 것을 확인할 수 있을 것입니다.\n"
   ]
  },
  {
   "cell_type": "markdown",
   "id": "1c15a995",
   "metadata": {},
   "source": [
    "`vectorstore` 객체의 `similarity_search` 메서드를 사용하여 유사도 검색을 수행합니다.\n"
   ]
  },
  {
   "cell_type": "code",
   "execution_count": 58,
   "id": "d6ed9a29",
   "metadata": {},
   "outputs": [
    {
     "data": {
      "text/plain": [
       "4"
      ]
     },
     "execution_count": 58,
     "metadata": {},
     "output_type": "execute_result"
    }
   ],
   "source": [
    "# 유사도 검색을 수행합니다.\n",
    "sub_docs = vectorstore.similarity_search(\"Cloud Functions\")\n",
    "\n",
    "len(sub_docs)"
   ]
  },
  {
   "cell_type": "markdown",
   "id": "f377d0d9",
   "metadata": {},
   "source": [
    "`sub_docs[0].page_content`를 출력합니다.\n"
   ]
  },
  {
   "cell_type": "code",
   "execution_count": 59,
   "id": "4db52fa3",
   "metadata": {},
   "outputs": [
    {
     "name": "stdout",
     "output_type": "stream",
     "text": [
      "8. Cloud Functions\n",
      "정의:Cloud Functions는 이벤트 기반으로 코드만 업로드하면 서버 없이 실행할 수 있는 FaaS(Function as a Service) 플랫폼입니다.\n",
      "예시:사용자가 이미지를 업로드하면 자동으로 썸네일을 생성하는 로직을 Cloud Functions로 실행할 수 있습니다.\n"
     ]
    }
   ],
   "source": [
    "# sub_docs 리스트의 첫 번째 요소의 page_content 속성을 출력합니다.\n",
    "print(sub_docs[0].page_content)"
   ]
  },
  {
   "cell_type": "markdown",
   "id": "399e28a3",
   "metadata": {},
   "source": [
    "이제 전체 retriever에서 검색해 보겠습니다. 이 과정에서는 작은 청크(chunk)들이 위치한 **문서를 반환** 하기 때문에 상대적으로 큰 문서들이 반환될 것입니다.\n"
   ]
  },
  {
   "cell_type": "markdown",
   "id": "f21c8dce",
   "metadata": {},
   "source": [
    "`retriever` 객체의 `invoke()` 메서드를 사용하여 쿼리와 관련된 문서를 검색합니다.\n"
   ]
  },
  {
   "cell_type": "code",
   "execution_count": 48,
   "id": "bd845482",
   "metadata": {},
   "outputs": [],
   "source": [
    "# 문서를 검색하여 가져옵니다.\n",
    "retrieved_docs = retriever.invoke(\"Cloud Functions\")"
   ]
  },
  {
   "cell_type": "markdown",
   "id": "3a3cb5b8",
   "metadata": {},
   "source": [
    "검색된 문서(`retrieved_docs[0]`)의 일부 내용을 출력합니다.\n"
   ]
  },
  {
   "cell_type": "code",
   "execution_count": 55,
   "id": "531585d6",
   "metadata": {},
   "outputs": [
    {
     "name": "stdout",
     "output_type": "stream",
     "text": [
      "문서의 길이: 4882\n",
      "\n",
      "=====================\n",
      "\n",
      "서비스가 있는 쇼핑몰에서 API Gateway를 통해 외부 요청을 일관성 있게 처리합니다.\n",
      "연관키워드:API 관리, 인증, 라우팅, Throttling, 백엔드 통합\n",
      "\n",
      "6. Auto Scaling\n",
      "정의:Auto Scaling은 서버 부하에 따라 인스턴스 수를 자동으로 조절해 서비스의 안정성과 비용 효율성을 높여주는 기능입니다.\n",
      "예시:이벤트 시즌에 접속자가 급증하는 티켓 예매 사이트가 자동으로 서버를 확장하여 트래픽을 감당합니다.\n",
      "연관키워드:스케일 아웃, 트래픽 관리, 탄력성, 서버 자동화\n",
      "\n",
      "7. Cloud Insight\n",
      "정의:Cloud Insight는 네이버클라우드 인프라의 모니터링과 알림 기능을 제공하는 통합 관제 도구입니다.\n",
      "예시:서버의 CPU 사용률이 급증하면 알림을 받아 즉시 대응할 수 있도록 구성할 수 있습니다.\n",
      "연관키워드:모니터링, 경고, 성능 추적, 대시보드\n",
      "\n",
      "8. Cloud Functions\n",
      "정의:Cloud Functions는 이벤트 기반으로 코드만 업로드하면 서버 없\n"
     ]
    }
   ],
   "source": [
    "# 검색된 문서의 문서의 페이지 내용의 길이를 출력합니다.\n",
    "print(\n",
    "    f\"문서의 길이: {len(retrieved_docs[0].page_content)}\",\n",
    "    end=\"\\n\\n=====================\\n\\n\",\n",
    ")\n",
    "\n",
    "# 문서의 일부를 출력합니다.\n",
    "print(retrieved_docs[0].page_content[1000:1500])"
   ]
  },
  {
   "cell_type": "markdown",
   "id": "829387f8",
   "metadata": {},
   "source": [
    "## 더 큰 Chunk 의 크기를 조절\n",
    "\n",
    "이전의 결과처럼 **전체 문서가 너무 커서 있는 그대로 검색하기에는 부적합** 할 수 있습니다.\n",
    "\n",
    "이런 경우, 실제로 우리가 하고 싶은 것은 먼저 원시 문서를 더 큰 청크로 분할한 다음, 더 작은 청크로 분할하는 것입니다.\n",
    "\n",
    "그런 다음 작은 청크들을 인덱싱하지만, 검색 시에는 더 큰 청크를 검색합니다 (그러나 여전히 전체 문서는 아닙니다).\n"
   ]
  },
  {
   "cell_type": "markdown",
   "id": "51dcc001",
   "metadata": {},
   "source": [
    "- `RecursiveCharacterTextSplitter`를 사용하여 부모 문서와 자식 문서를 생성합니다.\n",
    "  - 부모 문서는 `chunk_size`가 1000으로 설정되어 있습니다.\n",
    "  - 자식 문서는 `chunk_size`가 200으로 설정되어 있으며, 부모 문서보다 작은 크기로 생성됩니다.\n"
   ]
  },
  {
   "cell_type": "code",
   "execution_count": 61,
   "id": "29662c13",
   "metadata": {},
   "outputs": [],
   "source": [
    "# 부모 문서를 생성하는 데 사용되는 텍스트 분할기입니다.\n",
    "parent_splitter = RecursiveCharacterTextSplitter(chunk_size=1000)\n",
    "# 자식 문서를 생성하는 데 사용되는 텍스트 분할기입니다.\n",
    "# 부모보다 작은 문서를 생성해야 합니다.\n",
    "child_splitter = RecursiveCharacterTextSplitter(chunk_size=200)\n",
    "# 자식 청크를 인덱싱하는 데 사용할 벡터 저장소입니다.\n",
    "vectorstore = Chroma(\n",
    "    collection_name=\"split_parents\", embedding_function=OpenAIEmbeddings()\n",
    ")\n",
    "# 부모 문서의 저장 계층입니다.\n",
    "store = InMemoryStore()"
   ]
  },
  {
   "cell_type": "markdown",
   "id": "db4a3592",
   "metadata": {},
   "source": [
    "`ParentDocumentRetriever`를 초기화하는 코드입니다.\n",
    "\n",
    "- `vectorstore` 매개변수는 문서 벡터를 저장하는 벡터 저장소를 지정합니다.\n",
    "- `docstore` 매개변수는 문서 데이터를 저장하는 문서 저장소를 지정합니다.\n",
    "- `child_splitter` 매개변수는 하위 문서를 분할하는 데 사용되는 문서 분할기를 지정합니다.\n",
    "- `parent_splitter` 매개변수는 상위 문서를 분할하는 데 사용되는 문서 분할기를 지정합니다.\n",
    "\n",
    "`ParentDocumentRetriever`는 계층적 문서 구조를 처리하며, 상위 문서와 하위 문서를 별도로 분할하고 저장합니다. 이를 통해 검색 시 상위 문서와 하위 문서를 효과적으로 활용할 수 있습니다.\n"
   ]
  },
  {
   "cell_type": "code",
   "execution_count": 62,
   "id": "c3cacb06",
   "metadata": {},
   "outputs": [],
   "source": [
    "retriever = ParentDocumentRetriever(\n",
    "    # 벡터 저장소를 지정합니다.\n",
    "    vectorstore=vectorstore,\n",
    "    # 문서 저장소를 지정합니다.\n",
    "    docstore=store,\n",
    "    # 하위 문서 분할기를 지정합니다.\n",
    "    child_splitter=child_splitter,\n",
    "    # 상위 문서 분할기를 지정합니다.\n",
    "    parent_splitter=parent_splitter,\n",
    ")"
   ]
  },
  {
   "cell_type": "markdown",
   "id": "cc96735d",
   "metadata": {},
   "source": [
    "`retriever` 객체에 `docs`를 추가합니다. `retriever`가 검색할 수 있는 문서 집합에 새로운 문서들을 추가하는 역할을 합니다.\n"
   ]
  },
  {
   "cell_type": "code",
   "execution_count": 63,
   "id": "6f95883b",
   "metadata": {},
   "outputs": [],
   "source": [
    "retriever.add_documents(docs)  # 문서를 retriever에 추가합니다."
   ]
  },
  {
   "cell_type": "markdown",
   "id": "e0a560f6",
   "metadata": {},
   "source": [
    "이제 문서의 수가 훨씬 더 많아진 것을 볼 수 있습니다. 이는 더 큰 청크(chunk)들입니다.\n"
   ]
  },
  {
   "cell_type": "code",
   "execution_count": 64,
   "id": "7d0989cc",
   "metadata": {},
   "outputs": [
    {
     "data": {
      "text/plain": [
       "6"
      ]
     },
     "execution_count": 64,
     "metadata": {},
     "output_type": "execute_result"
    }
   ],
   "source": [
    "# 저장소에서 키를 생성하고 리스트로 변환한 후 길이를 반환합니다.\n",
    "len(list(store.yield_keys()))"
   ]
  },
  {
   "cell_type": "markdown",
   "id": "f8004388",
   "metadata": {},
   "source": [
    "기본 벡터 저장소가 여전히 작은 청크를 검색하는지 확인해 보겠습니다.\n"
   ]
  },
  {
   "cell_type": "markdown",
   "id": "b6ea50f0",
   "metadata": {},
   "source": [
    "`vectorstore` 객체의 `similarity_search` 메서드를 사용하여 유사도 검색을 수행합니다.\n"
   ]
  },
  {
   "cell_type": "code",
   "execution_count": 65,
   "id": "ec52ff30",
   "metadata": {},
   "outputs": [
    {
     "name": "stdout",
     "output_type": "stream",
     "text": [
      "8. Cloud Functions\n",
      "정의:Cloud Functions는 이벤트 기반으로 코드만 업로드하면 서버 없이 실행할 수 있는 FaaS(Function as a Service) 플랫폼입니다.\n",
      "예시:사용자가 이미지를 업로드하면 자동으로 썸네일을 생성하는 로직을 Cloud Functions로 실행할 수 있습니다.\n"
     ]
    }
   ],
   "source": [
    "# 유사도 검색을 수행합니다.\n",
    "sub_docs = vectorstore.similarity_search(\"Cloud Functions\")\n",
    "# sub_docs 리스트의 첫 번째 요소의 page_content 속성을 출력합니다.\n",
    "print(sub_docs[0].page_content)"
   ]
  },
  {
   "cell_type": "markdown",
   "id": "937b2c64",
   "metadata": {},
   "source": [
    "이번에는 `retriever` 객체의 `invoke()` 메서드를 사용하여 문서를 검색합니다.\n"
   ]
  },
  {
   "cell_type": "code",
   "execution_count": 67,
   "id": "9944a690",
   "metadata": {},
   "outputs": [
    {
     "name": "stdout",
     "output_type": "stream",
     "text": [
      "5. API Gateway\n",
      "정의:API Gateway는 여러 서비스에서 제공하는 API를 통합 관리하고 보안, 인증, 트래픽 제어 등의 기능을 제공하는 서비스입니다.\n",
      "예시:여러 개의 백엔드 서비스가 있는 쇼핑몰에서 API Gateway를 통해 외부 요청을 일관성 있게 처리합니다.\n",
      "연관키워드:API 관리, 인증, 라우팅, Throttling, 백엔드 통합\n",
      "\n",
      "6. Auto Scaling\n",
      "정의:Auto Scaling은 서버 부하에 따라 인스턴스 수를 자동으로 조절해 서비스의 안정성과 비용 효율성을 높여주는 기능입니다.\n",
      "예시:이벤트 시즌에 접속자가 급증하는 티켓 예매 사이트가 자동으로 서버를 확장하여 트래픽을 감당합니다.\n",
      "연관키워드:스케일 아웃, 트래픽 관리, 탄력성, 서버 자동화\n",
      "\n",
      "7. Cloud Insight\n",
      "정의:Cloud Insight는 네이버클라우드 인프라의 모니터링과 알림 기능을 제공하는 통합 관제 도구입니다.\n",
      "예시:서버의 CPU 사용률이 급증하면 알림을 받아 즉시 대응할 수 있도록 구성할 수 있습니다.\n",
      "연관키워드:모니터링, 경고, 성능 추적, 대시보드\n",
      "\n",
      "8. Cloud Functions\n",
      "정의:Cloud Functions는 이벤트 기반으로 코드만 업로드하면 서버 없이 실행할 수 있는 FaaS(Function as a Service) 플랫폼입니다.\n",
      "예시:사용자가 이미지를 업로드하면 자동으로 썸네일을 생성하는 로직을 Cloud Functions로 실행할 수 있습니다.\n",
      "연관키워드:서버리스, 이벤트 트리거, FaaS, 자동 실행\n",
      "\n",
      "9. Cloud Hadoop\n",
      "정의:Cloud Hadoop은 빅데이터 처리를 위한 분산 컴퓨팅 플랫폼으로, 대용량 데이터를 병렬 처리하는 데 최적화되어 있습니다.\n",
      "예시:마케팅 데이터 분석을 위해 수 TB 규모의 로그 데이터를 MapReduce로 처리합니다.\n",
      "연관키워드:빅데이터, MapReduce, 분산 처리, Spark\n"
     ]
    }
   ],
   "source": [
    "# 문서를 검색하여 가져옵니다.\n",
    "retrieved_docs = retriever.invoke(\"Cloud Functions\")\n",
    "\n",
    "# 검색된 문서의 첫 번째 문서의 페이지 내용의 길이를 반환합니다.\n",
    "print(retrieved_docs[0].page_content)"
   ]
  }
 ],
 "metadata": {
  "kernelspec": {
   "display_name": "Python 3",
   "language": "python",
   "name": "python3"
  },
  "language_info": {
   "codemirror_mode": {
    "name": "ipython",
    "version": 3
   },
   "file_extension": ".py",
   "mimetype": "text/x-python",
   "name": "python",
   "nbconvert_exporter": "python",
   "pygments_lexer": "ipython3",
   "version": "3.11.9"
  }
 },
 "nbformat": 4,
 "nbformat_minor": 5
}
